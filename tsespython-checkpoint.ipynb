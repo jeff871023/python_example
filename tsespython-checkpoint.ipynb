{
 "cells": [
  {
   "cell_type": "code",
   "execution_count": 5,
   "metadata": {},
   "outputs": [
    {
     "name": "stdout",
     "output_type": "stream",
     "text": [
      "大家好!\n",
      "歡迎光臨\n"
     ]
    }
   ],
   "source": [
    "Str =\"大家好!\\n歡迎光臨\"\n",
    "print(Str)"
   ]
  },
  {
   "cell_type": "code",
   "execution_count": 7,
   "metadata": {},
   "outputs": [
    {
     "name": "stdout",
     "output_type": "stream",
     "text": [
      "100@@多吃水果@@才會健康"
     ]
    }
   ],
   "source": [
    "print(100,\"多吃水果\",\"才會健康\",sep=\"@@\",end=\"\")"
   ]
  },
  {
   "cell_type": "code",
   "execution_count": 18,
   "metadata": {},
   "outputs": [
    {
     "name": "stdout",
     "output_type": "stream",
     "text": [
      "帥哥是我的分數為100\n",
      "帥哥是我的成績是100\n"
     ]
    }
   ],
   "source": [
    "name = \"帥哥是我\"\n",
    "score = 100\n",
    "print(\"%2s的分數為%d\" % (name,score))\n",
    "print(\"{}的成績是{}\".format(name,score))"
   ]
  },
  {
   "cell_type": "code",
   "execution_count": 3,
   "metadata": {},
   "outputs": [
    {
     "name": "stdout",
     "output_type": "stream",
     "text": [
      "我的成績是99\n"
     ]
    }
   ],
   "source": [
    "score2=99\n",
    "print(\"我的成績是\"+str(score2))"
   ]
  },
  {
   "cell_type": "code",
   "execution_count": 16,
   "metadata": {},
   "outputs": [
    {
     "name": "stdout",
     "output_type": "stream",
     "text": [
      "請輸入數學成績:1223.121\n",
      "<class 'str'>\n"
     ]
    }
   ],
   "source": [
    "score3=input(\"請輸入數學成績:\")\n",
    "print(type(score3))"
   ]
  },
  {
   "cell_type": "code",
   "execution_count": 19,
   "metadata": {},
   "outputs": [
    {
     "name": "stdout",
     "output_type": "stream",
     "text": [
      "請輸入國文成績:100\n",
      "請輸入英文成績:100\n",
      "請輸入英文成績:100\n",
      "目前總成績:300 ，平均分數為:100.00\n"
     ]
    }
   ],
   "source": [
    "man = input(\"請輸入國文成績:\")\n",
    "math = input(\"請輸入英文成績:\")\n",
    "eng = input(\"請輸入英文成績:\")\n",
    "sum = int(man)+int(math)+int(eng)\n",
    "ave = sum /3\n",
    "print(\"目前總成績:%d ，平均分數為:%5.2f\"% (sum,ave))"
   ]
  },
  {
   "cell_type": "code",
   "execution_count": 3,
   "metadata": {},
   "outputs": [
    {
     "name": "stdout",
     "output_type": "stream",
     "text": [
      "請輸入密碼:1245\n",
      "輸入錯誤!\n"
     ]
    }
   ],
   "source": [
    "Pass =input(\"請輸入密碼:\")\n",
    "\n",
    "if(Pass == \"1234\"):\n",
    "    print(\"歡迎光臨!\")\n",
    "else:\n",
    "    print(\"輸入錯誤!\")"
   ]
  },
  {
   "cell_type": "code",
   "execution_count": 6,
   "metadata": {},
   "outputs": [
    {
     "name": "stdout",
     "output_type": "stream",
     "text": [
      "請輸入成績:50\n",
      "丁等\n"
     ]
    }
   ],
   "source": [
    "score4 =input(\"請輸入成績:\")\n",
    "if(int(score4) == 100):\n",
    "    print(\"優等\")\n",
    "elif(int(score4) >=90):\n",
    "    print(\"甲等\")\n",
    "elif(int(score4) >=80):\n",
    "    print(\"乙等\")\n",
    "elif(int(score4) >=70):\n",
    "    print(\"丙等\")\n",
    "else:\n",
    "    print(\"丁等\")"
   ]
  },
  {
   "cell_type": "code",
   "execution_count": null,
   "metadata": {},
   "outputs": [],
   "source": [
    "\n",
    "money =int(input(\"請輸入購物金額:\"))\n",
    "\n",
    "\n",
    "if(money >=100000):\n",
    "    print(str(money * 0.8),end=\"元 \\n\")\n",
    "elif(money >=50000):\n",
    "    print(str(money * 0.85),end=\"元 \\n\")\n",
    "elif(money >=30000):\n",
    "    print(str(money * 0.9),end=\"元 \\n\")\n",
    "elif(money >=10000):\n",
    "    print(str(money * 0.95),end=\"元 \\n\")\n",
    "else:\n",
    "    print(str(money),end=\"元 \\n\")"
   ]
  },
  {
   "cell_type": "code",
   "execution_count": 14,
   "metadata": {},
   "outputs": [
    {
     "name": "stdout",
     "output_type": "stream",
     "text": [
      "[0, 1, 2, 3, 4]\n",
      "[100, 101, 102, 103, 104, 105, 106, 107, 108, 109, 110]\n",
      "[19, 18, 17, 16, 15, 14, 13, 12, 11, 10, 9, 8, 7, 6, 5, 4]\n"
     ]
    }
   ],
   "source": [
    "r1=range(5)\n",
    "\n",
    "print(list(r1))\n",
    "\n",
    "r2=range(100,111)\n",
    "\n",
    "print(list(r2))\n",
    "\n",
    "r3=range(19,3,-1)\n",
    "print(list(r3))"
   ]
  },
  {
   "cell_type": "code",
   "execution_count": 17,
   "metadata": {},
   "outputs": [
    {
     "name": "stdout",
     "output_type": "stream",
     "text": [
      "香蕉,蘋果,西瓜,16,15,14,13,12,11,10,9,8,7,6,5,4,"
     ]
    }
   ],
   "source": [
    "lsit1 = ['香蕉','蘋果','西瓜']\n",
    "for s in lsit1:\n",
    "    print(s,end=',')\n",
    "    \n",
    "for d in range(16,3,-1):\n",
    "    print(d,end=',')"
   ]
  },
  {
   "cell_type": "code",
   "execution_count": 2,
   "metadata": {},
   "outputs": [
    {
     "name": "stdout",
     "output_type": "stream",
     "text": [
      "請輸入整數16545455\n",
      "1到16545455的合是136876048851240\n"
     ]
    }
   ],
   "source": [
    "sum =0\n",
    "n = int(input(\"請輸入整數\"))\n",
    "for a in range(n+1):\n",
    "    sum+=a\n",
    "print(\"1到%d的合是%d\" % (n,sum))\\"
   ]
  },
  {
   "cell_type": "code",
   "execution_count": 14,
   "metadata": {},
   "outputs": [
    {
     "name": "stdout",
     "output_type": "stream",
     "text": [
      "1 * 1 =1  1 * 2 =2  1 * 3 =3  1 * 4 =4  1 * 5 =5  1 * 6 =6  1 * 7 =7  1 * 8 =8  1 * 9 =9  \n",
      "2 * 1 =2  2 * 2 =4  2 * 3 =6  2 * 4 =8  2 * 5 =10 2 * 6 =12 2 * 7 =14 2 * 8 =16 2 * 9 =18 \n",
      "3 * 1 =3  3 * 2 =6  3 * 3 =9  3 * 4 =12 3 * 5 =15 3 * 6 =18 3 * 7 =21 3 * 8 =24 3 * 9 =27 \n",
      "4 * 1 =4  4 * 2 =8  4 * 3 =12 4 * 4 =16 4 * 5 =20 4 * 6 =24 4 * 7 =28 4 * 8 =32 4 * 9 =36 \n",
      "5 * 1 =5  5 * 2 =10 5 * 3 =15 5 * 4 =20 5 * 5 =25 5 * 6 =30 5 * 7 =35 5 * 8 =40 5 * 9 =45 \n",
      "6 * 1 =6  6 * 2 =12 6 * 3 =18 6 * 4 =24 6 * 5 =30 6 * 6 =36 6 * 7 =42 6 * 8 =48 6 * 9 =54 \n",
      "7 * 1 =7  7 * 2 =14 7 * 3 =21 7 * 4 =28 7 * 5 =35 7 * 6 =42 7 * 7 =49 7 * 8 =56 7 * 9 =63 \n",
      "8 * 1 =8  8 * 2 =16 8 * 3 =24 8 * 4 =32 8 * 5 =40 8 * 6 =48 8 * 7 =56 8 * 8 =64 8 * 9 =72 \n",
      "9 * 1 =9  9 * 2 =18 9 * 3 =27 9 * 4 =36 9 * 5 =45 9 * 6 =54 9 * 7 =63 9 * 8 =72 9 * 9 =81 \n"
     ]
    }
   ],
   "source": [
    "for s in range(1,10):\n",
    "    for d in range(1,10):\n",
    "        print(\"%d * %d =%-2d \" % (s,d,s*d),end=\"\")\n",
    "    print()"
   ]
  },
  {
   "cell_type": "code",
   "execution_count": 2,
   "metadata": {},
   "outputs": [
    {
     "name": "stdout",
     "output_type": "stream",
     "text": [
      "1,2,3,4,5,抓到6\n",
      "7,8,9,"
     ]
    }
   ],
   "source": [
    "for s in range(1,10):\n",
    "    if(s==6):\n",
    "        print(\"抓到{}\".format(s))\n",
    "        continue\n",
    "    print(s ,end=\",\")"
   ]
  },
  {
   "cell_type": "code",
   "execution_count": 6,
   "metadata": {},
   "outputs": [
    {
     "name": "stdout",
     "output_type": "stream",
     "text": [
      "請輸入大於一的整數1234\n",
      "1234 這不是質數\n"
     ]
    }
   ],
   "source": [
    "#找質數\n",
    "degital =int(input(\"請輸入大於一的整數\"))\n",
    "for s in range(2,degital-1):\n",
    "    if(degital%s == 0):\n",
    "        print(\"%d 這不是質數\" % (degital))\n",
    "        break\n",
    "    else:\n",
    "        print(\"%d 這是質數 \" % (degital))\n",
    "        break"
   ]
  },
  {
   "cell_type": "code",
   "execution_count": 3,
   "metadata": {},
   "outputs": [
    {
     "name": "stdout",
     "output_type": "stream",
     "text": [
      "請輸入第1個人的成績:55\n",
      "請輸入第2個人的成績:65\n",
      "請輸入第3個人的成績:56\n",
      "請輸入第4個人的成績:48\n",
      "請輸入第5個人的成績:98\n",
      "請輸入第6個人的成績:-1\n",
      "班上總成績為322.00,平均為64.40 \n"
     ]
    }
   ],
   "source": [
    "#while 迴圈計算班級成績\n",
    "total = people =score =0\n",
    "while(score != -1):\n",
    "    people +=1\n",
    "    total +=score\n",
    "    score=float(input(\"請輸入第%d個人的成績:\"% people ))\n",
    "print(\"班上總成績為%5.2f,平均為%5.2f \"% (total,total/(people-1)))"
   ]
  },
  {
   "cell_type": "code",
   "execution_count": 6,
   "metadata": {},
   "outputs": [
    {
     "name": "stdout",
     "output_type": "stream",
     "text": [
      "['P', 'Q', 'a', 'd', 'e', 'g', 'g', 's', 's', 't', 'v', 'w', 'z']\n"
     ]
    }
   ],
   "source": [
    "list1 =[1,2,3,4,5,6,7,8,9,10,11,12,8]\n",
    "lists =['P','d','g','t','e','w','v','z','s','a','s','g','Q']\n",
    "#list2 =list1[1:12:2]\n",
    "#list2 =list1[1:12]\n",
    "\n",
    "#print(len(lists))\n",
    "#print(min(lists))\n",
    "#print(max(list2))\n",
    "#print(list1.index(11))#出現位置\n",
    "#print(list1.count(11)) #出現次數\n",
    "\n",
    "#print(list1.append(55))#後面增加55\n",
    "#print(list1)\n",
    "\n",
    "# print(list1.extend(lists))#後面加lists的元素\n",
    "# print(list1)\n",
    "\n",
    "# list1.insert(1,88)#在位置1插入88\n",
    "# print(list(list1))\n",
    "\n",
    "# n = list1.pop(4)    #位置4的元素轉到n\n",
    "# print(n,list1,sep=(\",\"))\n",
    "\n",
    "# list1.remove(8)    #移除第一個8\n",
    "# print(list1)\n",
    "\n",
    "# list1.reverse()   #反轉串列順序\n",
    "# print(list1)\n",
    "\n",
    "# lists.sort() #將串列由小排到大\n",
    "# print(lists)"
   ]
  },
  {
   "cell_type": "code",
   "execution_count": 1,
   "metadata": {},
   "outputs": [
    {
     "name": "stdout",
     "output_type": "stream",
     "text": [
      "請輸入第1個同學成績:100\n",
      "請輸入第2個同學成績:100\n",
      "請輸入第3個同學成績:100\n",
      "請輸入第4個同學成績:100\n",
      "請輸入第5個同學成績:-1\n",
      "全班總成績為400.00 \n",
      "全班平均為100.00\n"
     ]
    }
   ],
   "source": [
    "#串列計算班級成績\n",
    "list1=[]\n",
    "people=totle=score= 0\n",
    "\n",
    "while(score != -1):\n",
    "    list1.append(score)\n",
    "    people +=1\n",
    "    score = int(input(\"請輸入第%d個同學成績:\"%(people)))\n",
    "for s in range(1,len(list1)):\n",
    "    totle+=list1[s]\n",
    "print(\"全班總成績為%5.2f \\n全班平均為%5.2f\" % (totle,totle/(people-1)) )"
   ]
  },
  {
   "cell_type": "code",
   "execution_count": 14,
   "metadata": {},
   "outputs": [
    {
     "name": "stdout",
     "output_type": "stream",
     "text": [
      "[1, 2, 3, 4, 5, 6, 7, 8]\n",
      "7\n",
      "(1, 2, 3, 4, 5, 6, 7)\n"
     ]
    }
   ],
   "source": [
    "#元素轉串列\n",
    "tuple1=(1,2,3,4,5,6,7)\n",
    "# print(list(tuple1))\n",
    "# print(len(tuple1))\n",
    "tuple2=list(tuple1)\n",
    "tuple2.append(8)\n",
    "print(tuple2)\n",
    "\n",
    "#元素轉串列\n",
    "tuple3=[1,2,3,4,5,6,7]\n",
    "print(len(tuple3))\n",
    "tuple4=tuple(tuple3)\n",
    "print(tuple4)"
   ]
  },
  {
   "cell_type": "code",
   "execution_count": null,
   "metadata": {},
   "outputs": [],
   "source": []
  }
 ],
 "metadata": {
  "kernelspec": {
   "display_name": "Python 3",
   "language": "python",
   "name": "python3"
  },
  "language_info": {
   "codemirror_mode": {
    "name": "ipython",
    "version": 3
   },
   "file_extension": ".py",
   "mimetype": "text/x-python",
   "name": "python",
   "nbconvert_exporter": "python",
   "pygments_lexer": "ipython3",
   "version": "3.7.4"
  }
 },
 "nbformat": 4,
 "nbformat_minor": 2
}
